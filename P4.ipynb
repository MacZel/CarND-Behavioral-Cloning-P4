{
 "cells": [
  {
   "cell_type": "code",
   "execution_count": null,
   "metadata": {},
   "outputs": [],
   "source": [
    "import csv\n",
    "\n",
    "import cv2\n",
    "import numpy as np\n",
    "import matplotlib.pyplot as plt"
   ]
  },
  {
   "cell_type": "code",
   "execution_count": 9,
   "metadata": {},
   "outputs": [],
   "source": [
    "lines = []\n",
    "with open('./data/track_1_straight/driving_log.csv') as csvfile:\n",
    "    reader = csv.reader(csvfile)\n",
    "    for line in reader:\n",
    "        lines.append(line)\n",
    "\n",
    "images = []\n",
    "measurements = []\n",
    "for line in lines:\n",
    "    current_path = line[0]\n",
    "    \n",
    "    image = plt.imread(current_path)\n",
    "    images.append(image)\n",
    "    \n",
    "    measurement = float(line[3])\n",
    "    measurements.append(measurement)\n",
    "    \n",
    "X_train = np.array(images)\n",
    "y_train = np.array(measurements)"
   ]
  },
  {
   "cell_type": "code",
   "execution_count": 10,
   "metadata": {},
   "outputs": [
    {
     "name": "stderr",
     "output_type": "stream",
     "text": [
      "Using TensorFlow backend.\n"
     ]
    }
   ],
   "source": [
    "from keras.models import Sequential\n",
    "from keras.layers import Flatten, Dense"
   ]
  },
  {
   "cell_type": "code",
   "execution_count": 11,
   "metadata": {},
   "outputs": [
    {
     "name": "stdout",
     "output_type": "stream",
     "text": [
      "Train on 2260 samples, validate on 565 samples\n",
      "Epoch 1/7\n",
      "2260/2260 [==============================] - 57s 25ms/step - loss: 16373640.1826 - val_loss: 13456.2885\n",
      "Epoch 2/7\n",
      "2260/2260 [==============================] - 2s 771us/step - loss: 23238.9943 - val_loss: 5708.1034\n",
      "Epoch 3/7\n",
      "2260/2260 [==============================] - 2s 769us/step - loss: 6437.4921 - val_loss: 5025.5605 ETA: 0s - loss: 6722. - ETA: 0s - loss: 659\n",
      "Epoch 4/7\n",
      "2260/2260 [==============================] - 2s 768us/step - loss: 4585.7945 - val_loss: 5471.7229\n",
      "Epoch 5/7\n",
      "2260/2260 [==============================] - 2s 766us/step - loss: 4381.3855 - val_loss: 3302.7594\n",
      "Epoch 6/7\n",
      "2260/2260 [==============================] - 2s 750us/step - loss: 3477.2603 - val_loss: 2797.0399\n",
      "Epoch 7/7\n",
      "2260/2260 [==============================] - 2s 746us/step - loss: 3590.5719 - val_loss: 6742.7475\n"
     ]
    }
   ],
   "source": [
    "model = Sequential()\n",
    "model.add(Flatten(input_shape=(160,320,3)))\n",
    "model.add(Dense(1))\n",
    "\n",
    "model.compile(loss='mse', optimizer='adam')\n",
    "model.fit(X_train, y_train, validation_split=0.2, shuffle=True, epochs=7)\n",
    "\n",
    "model.save('model.h5')"
   ]
  },
  {
   "cell_type": "code",
   "execution_count": null,
   "metadata": {},
   "outputs": [],
   "source": []
  }
 ],
 "metadata": {
  "kernelspec": {
   "display_name": "Python 3",
   "language": "python",
   "name": "python3"
  },
  "language_info": {
   "codemirror_mode": {
    "name": "ipython",
    "version": 3
   },
   "file_extension": ".py",
   "mimetype": "text/x-python",
   "name": "python",
   "nbconvert_exporter": "python",
   "pygments_lexer": "ipython3",
   "version": "3.6.5"
  }
 },
 "nbformat": 4,
 "nbformat_minor": 2
}
